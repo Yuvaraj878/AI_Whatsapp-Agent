{
 "cells": [
  {
   "cell_type": "markdown",
   "id": "1d6a07df",
   "metadata": {
    "height": 30
   },
   "source": [
    "# WhatsApp Reply Agent\n",
    "\n",
    "An intelligent agent that can automatically reply to WhatsApp messages with context-aware responses and scheduling capabilities.\n",
    "\n",
    "## Features:\n",
    "- **Smart Reply Generation**: Analyzes incoming messages and generates appropriate responses\n",
    "- **Message Scheduling**: Schedule messages to be sent at specific times\n",
    "- **Contact Management**: Handle different contacts with personalized responses\n",
    "- **Message Analysis**: Understand message tone, urgency, and context"
   ]
  },
  {
   "cell_type": "code",
   "execution_count": 12,
   "id": "2625df08",
   "metadata": {
    "height": 251
   },
   "outputs": [],
   "source": [
    "import datetime\n",
    "import threading\n",
    "import time\n",
    "import json\n",
    "from typing import Dict, List, Optional\n",
    "from dataclasses import dataclass\n",
    "import openai\n",
    "import re\n",
    "import httpx\n",
    "import os\n",
    "from dotenv import load_dotenv\n",
    "\n",
    "_ = load_dotenv()\n",
    "from openai import OpenAI"
   ]
  },
  {
   "cell_type": "code",
   "execution_count": 13,
   "id": "4c7a2013",
   "metadata": {
    "height": 30
   },
   "outputs": [],
   "source": [
    "client = OpenAI()"
   ]
  },
  {
   "cell_type": "code",
   "execution_count": 14,
   "id": "760071da",
   "metadata": {
    "height": 81
   },
   "outputs": [],
   "source": [
    "chat_completion = client.chat.completions.create(\n",
    "    model=\"gpt-3.5-turbo\",\n",
    "    messages=[{\"role\": \"user\", \"content\": \"Hello world\"}]\n",
    ")"
   ]
  },
  {
   "cell_type": "code",
   "execution_count": 15,
   "id": "c34e1f63",
   "metadata": {
    "height": 45
   },
   "outputs": [
    {
     "name": "stdout",
     "output_type": "stream",
     "text": [
      "                                                          Name : Yuvaraj S\n",
      "                                                    Register number : 212222240119\n"
     ]
    }
   ],
   "source": [
    "print(\"                                                          Name : Yuvaraj S\\n                                                    Register number : 212222240119\")"
   ]
  },
  {
   "cell_type": "code",
   "execution_count": 16,
   "id": "eea7eaf1",
   "metadata": {
    "height": 47
   },
   "outputs": [
    {
     "data": {
      "text/plain": [
       "'Hello! How can I assist you today?'"
      ]
     },
     "execution_count": 16,
     "metadata": {},
     "output_type": "execute_result"
    }
   ],
   "source": [
    "chat_completion.choices[0].message.content\n"
   ]
  },
  {
   "cell_type": "code",
   "execution_count": 17,
   "id": "cfb09682",
   "metadata": {
    "height": 353
   },
   "outputs": [],
   "source": [
    "class Agent:\n",
    "    def __init__(self, system=\"\"):\n",
    "        self.system = system\n",
    "        self.messages = []\n",
    "        if self.system:\n",
    "            self.messages.append({\"role\": \"system\", \"content\": system})\n",
    "\n",
    "    def __call__(self, message):\n",
    "        self.messages.append({\"role\": \"user\", \"content\": message})\n",
    "        result = self.execute()\n",
    "        self.messages.append({\"role\": \"assistant\", \"content\": result})\n",
    "        return result\n",
    "\n",
    "    def execute(self):\n",
    "        completion = client.chat.completions.create(\n",
    "                        model=\"gpt-4o\", \n",
    "                        temperature=0,\n",
    "                        messages=self.messages)\n",
    "        return completion.choices[0].message.content\n",
    "    "
   ]
  },
  {
   "cell_type": "code",
   "execution_count": 18,
   "id": "ccf2e3ed",
   "metadata": {
    "height": 1033
   },
   "outputs": [],
   "source": [
    "@dataclass\n",
    "class Contact:\n",
    "    name: str\n",
    "    number: str\n",
    "    relationship: str  # friend, family, business, etc.\n",
    "    personality: str   # casual, formal, humorous, etc.\n",
    "\n",
    "@dataclass\n",
    "class ScheduledMessage:\n",
    "    contact: str\n",
    "    message: str\n",
    "    send_time: datetime.datetime\n",
    "    sent: bool = False\n",
    "\n",
    "whatsapp_prompt = \"\"\"\n",
    "You are a WhatsApp Reply Agent that helps craft appropriate responses and manage messaging.\n",
    "You run in a loop of Thought, Action, PAUSE, Observation.\n",
    "At the end of the loop you output an Answer.\n",
    "\n",
    "Use Thought to analyze the incoming message and determine the best response strategy.\n",
    "Use Action to run one of the actions available to you - then return PAUSE.\n",
    "Observation will be the result of running those actions.\n",
    "\n",
    "Your available actions are:\n",
    "\n",
    "analyze_message:\n",
    "e.g. analyze_message: Hey! How are you doing today?\n",
    "Analyzes the tone, urgency, and type of incoming message\n",
    "\n",
    "generate_reply:\n",
    "e.g. generate_reply: casual greeting from friend\n",
    "Generates an appropriate reply based on message analysis and contact relationship\n",
    "\n",
    "schedule_message:\n",
    "e.g. schedule_message: +1234567890, Happy Birthday!, 2024-08-02 09:00\n",
    "Schedules a message to be sent at a specific time (format: number, message, YYYY-MM-DD HH:MM)\n",
    "\n",
    "get_contact_info:\n",
    "e.g. get_contact_info: +1234567890\n",
    "Retrieves information about a contact including relationship and preferred communication style\n",
    "\n",
    "send_immediate_reply:\n",
    "e.g. send_immediate_reply: +1234567890, Thanks for the message!\n",
    "Sends an immediate reply to the specified number\n",
    "\n",
    "Example session:\n",
    "\n",
    "Question: I received \"Hey! Are we still on for dinner tonight?\" from +1234567890\n",
    "Thought: I need to analyze this message and check who this contact is, then generate an appropriate response\n",
    "Action: get_contact_info: +1234567890\n",
    "PAUSE\n",
    "\n",
    "You will be called again with this:\n",
    "\n",
    "Observation: Contact: John Smith, Relationship: friend, Style: casual\n",
    "\n",
    "Then continue analyzing and responding...\n",
    "\n",
    "Answer: Generated appropriate reply and scheduled/sent message as requested.\n",
    "\"\"\".strip()"
   ]
  },
  {
   "cell_type": "code",
   "execution_count": 19,
   "id": "95c66b89",
   "metadata": {
    "height": 2087
   },
   "outputs": [],
   "source": [
    "contacts_db = {\n",
    "    \"+918766766556\": Contact(\"John Smith\", \"+918766766556\", \"friend\", \"casual\"),\n",
    "}\n",
    "\n",
    "scheduled_messages: List[ScheduledMessage] = []\n",
    "sent_messages: List[Dict] = []\n",
    "\n",
    "def analyze_message(message_text):\n",
    "    message_lower = message_text.lower()\n",
    "\n",
    "    urgent_keywords = ['urgent', 'asap', 'emergency', 'now', 'immediately', 'help']\n",
    "    urgency = \"high\" if any(keyword in message_lower for keyword in urgent_keywords) else \"normal\"\n",
    "\n",
    "    if any(word in message_lower for word in ['hey', 'hi', 'hello', '😊', '👋']):\n",
    "        tone = \"friendly\"\n",
    "    elif any(word in message_lower for word in ['thanks', 'thank you', 'appreciate']):\n",
    "        tone = \"grateful\"\n",
    "    elif '?' in message_text:\n",
    "        tone = \"questioning\"\n",
    "    elif '!' in message_text:\n",
    "        tone = \"excited\"\n",
    "    else:\n",
    "        tone = \"neutral\"\n",
    "\n",
    "    if '?' in message_text:\n",
    "        msg_type = \"question\"\n",
    "    elif any(word in message_lower for word in ['meeting', 'dinner', 'lunch', 'appointment']):\n",
    "        msg_type = \"scheduling\"\n",
    "    elif any(word in message_lower for word in ['birthday', 'congratulations', 'celebration']):\n",
    "        msg_type = \"celebration\"\n",
    "    else:\n",
    "        msg_type = \"general\"\n",
    "    \n",
    "    return f\"Analysis: Urgency={urgency}, Tone={tone}, Type={msg_type}, Length={len(message_text.split())} words\"\n",
    "\n",
    "def generate_reply(context_and_style):\n",
    "    context = context_and_style.lower()\n",
    "\n",
    "    if \"business\" in context or \"formal\" in context:\n",
    "        if \"question\" in context:\n",
    "            return \"Thank you for your message. I'll review this and get back to you shortly.\"\n",
    "        elif \"meeting\" in context:\n",
    "            return \"I'll check my calendar and confirm the meeting details with you.\"\n",
    "        else:\n",
    "            return \"Thank you for reaching out. I appreciate your message.\"\n",
    "    \n",
    "    elif \"friend\" in context or \"casual\" in context:\n",
    "        if \"question\" in context:\n",
    "            return \"Hey! Let me check on that and get back to you \"\n",
    "        elif \"dinner\" in context or \"lunch\" in context:\n",
    "            return \"Absolutely! Looking forward to it! 🍽️\"\n",
    "        elif \"greeting\" in context:\n",
    "            return \"Hey there! I'm doing great, thanks for asking! How about you?\"\n",
    "        else:\n",
    "            return \"Thanks for the message! Hope you're doing well \"\n",
    "    \n",
    "    elif \"family\" in context:\n",
    "        if \"celebration\" in context:\n",
    "            return \"Thank you so much! Love you too! \"\n",
    "        elif \"question\" in context:\n",
    "            return \"Of course! Let me check and let you know soon.\"\n",
    "        else:\n",
    "            return \"Thanks for checking in! Love you! \"\n",
    "    \n",
    "    else:\n",
    "        return \"Thank you for your message. I'll respond appropriately soon.\"\n",
    "\n",
    "def schedule_message(message_details):\n",
    "    try:\n",
    "        parts = message_details.split(', ', 2)\n",
    "        if len(parts) != 3:\n",
    "            return \"Error: Format should be 'number, message, YYYY-MM-DD HH:MM'\"\n",
    "        \n",
    "        number, message, time_str = parts\n",
    "        send_time = datetime.datetime.strptime(time_str.strip(), \"%Y-%m-%d %H:%M\")\n",
    "        \n",
    "        scheduled_msg = ScheduledMessage(\n",
    "            contact=number.strip(),\n",
    "            message=message.strip(),\n",
    "            send_time=send_time\n",
    "        )\n",
    "        scheduled_messages.append(scheduled_msg)\n",
    "        \n",
    "        return f\"Message scheduled for {send_time.strftime('%Y-%m-%d %H:%M')} to {number}\"\n",
    "    except Exception as e:\n",
    "        return f\"Error scheduling message: {e}\"\n",
    "\n",
    "def get_contact_info(phone_number):\n",
    "    phone_number = phone_number.strip()\n",
    "    if phone_number in contacts_db:\n",
    "        contact = contacts_db[phone_number]\n",
    "        return f\"Contact: {contact.name}, Relationship: {contact.relationship}, Style: {contact.personality}\"\n",
    "    else:\n",
    "        return f\"Unknown contact: {phone_number}. Using default: neutral relationship, professional style\"\n",
    "\n",
    "def send_immediate_reply(message_details):\n",
    "    try:\n",
    "        parts = message_details.split(', ', 1)\n",
    "        if len(parts) != 2:\n",
    "            return \"Error: Format should be 'number, message'\"\n",
    "        \n",
    "        number, message = parts\n",
    "\n",
    "        sent_msg = {\n",
    "            \"number\": number.strip(),\n",
    "            \"message\": message.strip(),\n",
    "            \"timestamp\": datetime.datetime.now().isoformat(),\n",
    "            \"status\": \"sent\"\n",
    "        }\n",
    "        sent_messages.append(sent_msg)\n",
    "        \n",
    "        return f\"Message sent to {number}: '{message}'\"\n",
    "    except Exception as e:\n",
    "        return f\"Error sending message: {e}\"\n",
    "\n",
    "whatsapp_actions = {\n",
    "    \"analyze_message\": analyze_message,\n",
    "    \"generate_reply\": generate_reply,\n",
    "    \"schedule_message\": schedule_message,\n",
    "    \"get_contact_info\": get_contact_info,\n",
    "    \"send_immediate_reply\": send_immediate_reply\n",
    "}"
   ]
  },
  {
   "cell_type": "code",
   "execution_count": 20,
   "id": "ebefe0b8",
   "metadata": {
    "height": 1405
   },
   "outputs": [],
   "source": [
    "def whatsapp_query(incoming_message, sender_number, auto_reply=True, schedule_time=None):\n",
    "    print(\"📱 WhatsApp Reply Agent Activated\")\n",
    "    print(\"=\" * 50)\n",
    "    print(f\"📩 Incoming Message: '{incoming_message}'\")\n",
    "    print(f\"📞 From: {sender_number}\")\n",
    "    \n",
    "    if schedule_time:\n",
    "        print(f\"⏰ Scheduled for: {schedule_time}\")\n",
    "\n",
    "    if schedule_time:\n",
    "        query_text = f\"I received '{incoming_message}' from {sender_number}. Please generate an appropriate reply and schedule it for {schedule_time}.\"\n",
    "    else:\n",
    "        query_text = f\"I received '{incoming_message}' from {sender_number}. Please analyze it and generate an appropriate reply{' and send it immediately' if auto_reply else ''}.\"\n",
    "\n",
    "    i = 0\n",
    "    max_turns = 6\n",
    "    whatsapp_bot = Agent(whatsapp_prompt)\n",
    "    next_prompt = query_text\n",
    "    \n",
    "    while i < max_turns:\n",
    "        i += 1\n",
    "        print(f\"\\n🤖 Agent Turn {i}:\")\n",
    "        result = whatsapp_bot(next_prompt)\n",
    "        print(result)\n",
    "\n",
    "        actions = [\n",
    "            action_re.match(a) \n",
    "            for a in result.split('\\n') \n",
    "            if action_re.match(a)\n",
    "        ]\n",
    "        \n",
    "        if actions:\n",
    "            action, action_input = actions[0].groups()\n",
    "            if action not in whatsapp_actions:\n",
    "                print(f\" Unknown action: {action}: {action_input}\")\n",
    "                break\n",
    "                \n",
    "            print(f\"\\n Executing: {action}({action_input})\")\n",
    "            observation = whatsapp_actions[action](action_input)\n",
    "            print(f\"📋 Result: {observation}\")\n",
    "            next_prompt = \"Observation: {}\".format(observation)\n",
    "        else:\n",
    "            print(\"\\n WhatsApp agent task completed!\")\n",
    "            return result\n",
    "            \n",
    "    print(f\"\\n⏰ Agent completed after {i} turns\")\n",
    "    return result\n",
    "\n",
    "def check_scheduled_messages():\n",
    "    print(\"\\n Scheduled Messages:\")\n",
    "    print(\"-\" * 40)\n",
    "    \n",
    "    if not scheduled_messages:\n",
    "        print(\"No scheduled messages.\")\n",
    "        return\n",
    "    \n",
    "    current_time = datetime.datetime.now()\n",
    "    \n",
    "    for i, msg in enumerate(scheduled_messages, 1):\n",
    "        status = \" READY TO SEND\" if msg.send_time <= current_time and not msg.sent else \"⏳ SCHEDULED\"\n",
    "        print(f\"{i}. To: {msg.contact}\")\n",
    "        print(f\"   Message: {msg.message}\")\n",
    "        print(f\"   Send Time: {msg.send_time.strftime('%Y-%m-%d %H:%M')}\")\n",
    "        print(f\"   Status: {status}\")\n",
    "        print()\n",
    "\n",
    "def show_sent_messages():\n",
    "    print(\"\\n Sent Messages History:\")\n",
    "    print(\"-\" * 40)\n",
    "    \n",
    "    if not sent_messages:\n",
    "        print(\"No messages sent yet.\")\n",
    "        return\n",
    "    \n",
    "    for i, msg in enumerate(sent_messages, 1):\n",
    "        timestamp = datetime.datetime.fromisoformat(msg['timestamp'])\n",
    "        print(f\"{i}. To: {msg['number']}\")\n",
    "        print(f\"   Message: {msg['message']}\")\n",
    "        print(f\"   Sent: {timestamp.strftime('%Y-%m-%d %H:%M:%S')}\")\n",
    "        print(f\"   Status: {msg['status']}\")\n",
    "        print()"
   ]
  },
  {
   "cell_type": "markdown",
   "id": "25abb930",
   "metadata": {
    "height": 30
   },
   "source": [
    "## Test WhatsApp Reply Agent\n",
    "\n",
    "Let's test the WhatsApp agent with different scenarios:"
   ]
  },
  {
   "cell_type": "code",
   "execution_count": 21,
   "id": "4a623a39",
   "metadata": {
    "height": 132
   },
   "outputs": [
    {
     "name": "stdout",
     "output_type": "stream",
     "text": [
      "🧪 TEST 1: Casual Friend Message\n",
      "📱 WhatsApp Reply Agent Activated\n",
      "==================================================\n",
      "📩 Incoming Message: 'Hey! Are we still on for dinner tonight? 😊'\n",
      "📞 From: +918766766556\n",
      "\n",
      "🤖 Agent Turn 1:\n",
      "Action: get_contact_info: +918766766556\n",
      "PAUSE\n",
      "\n",
      " Executing: get_contact_info(+918766766556)\n",
      "📋 Result: Contact: John Smith, Relationship: friend, Style: casual\n",
      "\n",
      "🤖 Agent Turn 2:\n",
      "Action: analyze_message: Hey! Are we still on for dinner tonight? 😊\n",
      "PAUSE\n",
      "\n",
      " Executing: analyze_message(Hey! Are we still on for dinner tonight? 😊)\n",
      "📋 Result: Analysis: Urgency=normal, Tone=friendly, Type=question, Length=9 words\n",
      "\n",
      "🤖 Agent Turn 3:\n",
      "Action: generate_reply: casual confirmation for dinner plans with friend\n",
      "PAUSE\n",
      "\n",
      " Executing: generate_reply(casual confirmation for dinner plans with friend)\n",
      "📋 Result: Absolutely! Looking forward to it! 🍽️\n",
      "\n",
      "🤖 Agent Turn 4:\n",
      "Action: send_immediate_reply: +918766766556, Absolutely! Looking forward to it! 🍽️\n",
      "PAUSE\n",
      "\n",
      " Executing: send_immediate_reply(+918766766556, Absolutely! Looking forward to it! 🍽️)\n",
      "📋 Result: Message sent to +918766766556: 'Absolutely! Looking forward to it! 🍽️'\n",
      "\n",
      "🤖 Agent Turn 5:\n",
      "Answer: Generated an appropriate reply and sent the message immediately.\n",
      "\n",
      " WhatsApp agent task completed!\n"
     ]
    },
    {
     "data": {
      "text/plain": [
       "'Answer: Generated an appropriate reply and sent the message immediately.'"
      ]
     },
     "execution_count": 21,
     "metadata": {},
     "output_type": "execute_result"
    }
   ],
   "source": [
    "action_re = re.compile(r\"^Action:\\s*(\\w+):\\s*(.+)$\")\n",
    "print(\"🧪 TEST 1: Casual Friend Message\")\n",
    "whatsapp_query(\n",
    "    incoming_message=\"Hey! Are we still on for dinner tonight? 😊\",\n",
    "    sender_number=\"+918766766556\",\n",
    "    auto_reply=True\n",
    ")"
   ]
  },
  {
   "cell_type": "code",
   "execution_count": 22,
   "id": "e714e90c",
   "metadata": {
    "height": 64
   },
   "outputs": [
    {
     "name": "stdout",
     "output_type": "stream",
     "text": [
      "\n",
      " Scheduled Messages:\n",
      "----------------------------------------\n",
      "No scheduled messages.\n",
      "\n",
      " Sent Messages History:\n",
      "----------------------------------------\n",
      "1. To: +918766766556\n",
      "   Message: Absolutely! Looking forward to it! 🍽️\n",
      "   Sent: 2025-08-01 05:47:36\n",
      "   Status: sent\n",
      "\n"
     ]
    }
   ],
   "source": [
    "check_scheduled_messages()\n",
    "\n",
    "show_sent_messages()"
   ]
  },
  {
   "cell_type": "markdown",
   "id": "6cd84715",
   "metadata": {
    "height": 30
   },
   "source": [
    "## Real-World Implementation Setup\n",
    "\n",
    "To use this WhatsApp agent in production, follow these steps:\n",
    "\n",
    "### 1. Install Required Packages\n",
    "```bash\n",
    "pip install pywhatkit\n",
    "pip install opencv-python  \n",
    "pip install schedule  \n",
    "```\n",
    "\n",
    "### 2. Setup WhatsApp Web\n",
    "- Install PyWhatKit: `pip install pywhatkit`\n",
    "- First run will open WhatsApp Web - scan QR code\n",
    "- Agent will control your WhatsApp through the web interface\n",
    "\n",
    "### 3. Replace Simulation Functions\n",
    "Update the `send_immediate_reply` function:\n",
    "```python\n",
    "import pywhatkit as pwk\n",
    "\n",
    "def send_immediate_reply(message_details):\n",
    "    parts = message_details.split(', ', 1)\n",
    "    number, message = parts\n",
    "    pwk.sendwhatmsg_instantly(number, message)\n",
    "    return f\"Message sent to {number}: '{message}'\"\n",
    "```\n",
    "\n",
    "### 4. Advanced Features You Can Add:\n",
    "- **Contact Detection**: Auto-detect contact names from phone number\n",
    "- **Sentiment Analysis**: Respond based on emotional tone\n",
    "- **Voice Messages**: Convert text to voice messages\n",
    "- **Image/Media Responses**: Send appropriate media based on context\n",
    "\n",
    "### 5. Security Considerations:\n",
    "- Store contact data securely\n",
    "- Implement rate limiting\n",
    "- Add authentication for sensitive operations\n",
    "- Log all automated actions\n",
    "- Include manual override options\n",
    "\n",
    "### 6. Usage Examples:\n",
    "```python\n",
    "# Simple auto-reply\n",
    "whatsapp_query(\"Thanks for the info!\", \"+1234567890\")\n",
    "\n",
    "# Scheduled birthday message\n",
    "whatsapp_query(\"\", \"+1234567890\", schedule_time=\"2024-08-15 09:00\")\n",
    "\n",
    "# Business reply with delay\n",
    "whatsapp_query(\"Meeting request received\", \"+1122334455\", schedule_time=\"2024-08-02 08:30\")\n",
    "```"
   ]
  }
 ],
 "metadata": {
  "kernelspec": {
   "display_name": "Python 3 (ipykernel)",
   "language": "python",
   "name": "python3"
  },
  "language_info": {
   "codemirror_mode": {
    "name": "ipython",
    "version": 3
   },
   "file_extension": ".py",
   "mimetype": "text/x-python",
   "name": "python",
   "nbconvert_exporter": "python",
   "pygments_lexer": "ipython3",
   "version": "3.11.9"
  }
 },
 "nbformat": 4,
 "nbformat_minor": 5
}
